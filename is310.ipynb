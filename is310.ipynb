{
 "cells": [
  {
   "cell_type": "code",
   "execution_count": 2,
   "metadata": {},
   "outputs": [
    {
     "name": "stdout",
     "output_type": "stream",
     "text": [
      "Defaulting to user installation because normal site-packages is not writeable\n",
      "Requirement already satisfied: praw in /Users/abhaybapat/Library/Python/3.13/lib/python/site-packages (7.8.1)\n",
      "Requirement already satisfied: python-dotenv in /Users/abhaybapat/Library/Python/3.13/lib/python/site-packages (1.1.0)\n",
      "Requirement already satisfied: prawcore<3,>=2.4 in /Users/abhaybapat/Library/Python/3.13/lib/python/site-packages (from praw) (2.4.0)\n",
      "Requirement already satisfied: update_checker>=0.18 in /Users/abhaybapat/Library/Python/3.13/lib/python/site-packages (from praw) (0.18.0)\n",
      "Requirement already satisfied: websocket-client>=0.54.0 in /Users/abhaybapat/Library/Python/3.13/lib/python/site-packages (from praw) (1.8.0)\n",
      "Requirement already satisfied: requests<3.0,>=2.6.0 in /Users/abhaybapat/Library/Python/3.13/lib/python/site-packages (from prawcore<3,>=2.4->praw) (2.32.3)\n",
      "Requirement already satisfied: charset-normalizer<4,>=2 in /Users/abhaybapat/Library/Python/3.13/lib/python/site-packages (from requests<3.0,>=2.6.0->prawcore<3,>=2.4->praw) (3.4.1)\n",
      "Requirement already satisfied: idna<4,>=2.5 in /Users/abhaybapat/Library/Python/3.13/lib/python/site-packages (from requests<3.0,>=2.6.0->prawcore<3,>=2.4->praw) (3.10)\n",
      "Requirement already satisfied: urllib3<3,>=1.21.1 in /Users/abhaybapat/Library/Python/3.13/lib/python/site-packages (from requests<3.0,>=2.6.0->prawcore<3,>=2.4->praw) (2.3.0)\n",
      "Requirement already satisfied: certifi>=2017.4.17 in /Users/abhaybapat/Library/Python/3.13/lib/python/site-packages (from requests<3.0,>=2.6.0->prawcore<3,>=2.4->praw) (2025.1.31)\n",
      "\n",
      "\u001b[1m[\u001b[0m\u001b[34;49mnotice\u001b[0m\u001b[1;39;49m]\u001b[0m\u001b[39;49m A new release of pip is available: \u001b[0m\u001b[31;49m24.3.1\u001b[0m\u001b[39;49m -> \u001b[0m\u001b[32;49m25.0.1\u001b[0m\n",
      "\u001b[1m[\u001b[0m\u001b[34;49mnotice\u001b[0m\u001b[1;39;49m]\u001b[0m\u001b[39;49m To update, run: \u001b[0m\u001b[32;49mpip3 install --upgrade pip\u001b[0m\n",
      "Note: you may need to restart the kernel to use updated packages.\n"
     ]
    }
   ],
   "source": [
    "%pip install praw python-dotenv"
   ]
  },
  {
   "cell_type": "code",
   "execution_count": null,
   "metadata": {},
   "outputs": [
    {
     "name": "stdout",
     "output_type": "stream",
     "text": [
      "Read-only mode: True\n",
      "Discussion Thread: Congressional Democrats Hold Meeting on the Trump Administration Agenda (Score: 158)\n",
      "URL: https://www.reddit.com/r/politics/comments/1jtp17u/discussion_thread_congressional_democrats_hold/\n",
      "\n",
      "Discussion Thread: President Trump and Israeli Prime Minister Netanyahu Hold Joint Press Conference (Score: 52)\n",
      "URL: https://www.reddit.com/r/politics/comments/1jtp0ky/discussion_thread_president_trump_and_israeli/\n",
      "\n",
      "7 GOP senators sign on to bill to check Trump’s trade authority (Score: 12598)\n",
      "URL: https://thehill.com/homenews/senate/5236142-congress-tariff-bill-trump/\n",
      "\n",
      "Trump Plans $92 Million Military Parade—Honoring Himself. Donald Trump is pulling straight from the dictator’s playbook. (Score: 28257)\n",
      "URL: https://newrepublic.com/post/193674/trump-military-parade-birthday\n",
      "\n",
      "Nationwide anti-Trump protest planned for April 19—What to know (Score: 12525)\n",
      "URL: https://www.newsweek.com/nationwide-trump-protest-april19-50501-handsoff-2056119\n",
      "\n"
     ]
    }
   ],
   "source": [
    "import praw\n",
    "\n",
    "reddit = praw.Reddit(\n",
    "    client_id=\"EKbE2y5TtQ2YTCVz39-kJg\", \n",
    "    client_secret=\"r6OdI-xsowqL4k2U5gNjJ4odaW5GHw\",\n",
    "    user_agent=\"IS310 by u/Sufficient-Explorer1\"\n",
    ")\n",
    "\n",
    "# Confirm connection (should print True)\n",
    "print(\"Read-only mode:\", reddit.read_only)\n",
    "\n",
    "# Test: print top 5 posts from r/technology\n",
    "for post in reddit.subreddit(\"politics\").hot(limit=5):\n",
    "    print(f\"{post.title} (Score: {post.score})\")\n",
    "    print(f\"URL: {post.url}\\n\")\n"
   ]
  },
  {
   "cell_type": "code",
   "execution_count": null,
   "metadata": {},
   "outputs": [],
   "source": []
  }
 ],
 "metadata": {
  "kernelspec": {
   "display_name": "Python 3",
   "language": "python",
   "name": "python3"
  },
  "language_info": {
   "codemirror_mode": {
    "name": "ipython",
    "version": 3
   },
   "file_extension": ".py",
   "mimetype": "text/x-python",
   "name": "python",
   "nbconvert_exporter": "python",
   "pygments_lexer": "ipython3",
   "version": "3.13.1"
  }
 },
 "nbformat": 4,
 "nbformat_minor": 2
}
