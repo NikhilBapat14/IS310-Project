{
 "cells": [
  {
   "cell_type": "code",
   "execution_count": null,
   "metadata": {},
   "outputs": [],
   "source": [
    "%pip install praw python-dotenv"
   ]
  },
  {
   "cell_type": "code",
   "execution_count": 7,
   "metadata": {},
   "outputs": [
    {
     "name": "stdout",
     "output_type": "stream",
     "text": [
      "Read-only mode: True\n",
      "FBI raids home of prominent computer scientist whose professor profile has disappeared from Indiana University — “He’s been missing for two weeks and his students can’t reach him”: fellow professor (Score: 29300)\n",
      "URL: https://arstechnica.com/security/2025/03/computer-scientist-goes-silent-after-fbi-raid-and-purging-from-university-website/\n",
      "\n",
      "Trump says he ‘couldn’t care less’ if tariffs make car prices go up (Score: 13606)\n",
      "URL: https://www.theguardian.com/us-news/2025/mar/30/trump-car-tariffs?CMP=Share_AndroidApp_Other\n",
      "\n",
      "Pentagon Cancels $280M Over-Budget HR Project -- Oracle and Leidos Left Reeling (Score: 1591)\n",
      "URL: https://finance.yahoo.com/news/pentagon-cancels-280m-over-budget-154730364.html\n",
      "\n",
      "DOGE Plans to Rewrite Entire Social Security Codebase in Just 'a Few Months': Report (Score: 847)\n",
      "URL: https://gizmodo.com/doge-plans-to-rewrite-entire-social-security-codebase-in-just-a-few-months-report-2000582062\n",
      "\n",
      "Utahns lose jobs at Texas Instruments after it snagged up to $1.6B in federal CHIPS Act funding (Score: 2873)\n",
      "URL: https://www.sltrib.com/news/business/2025/03/28/utah-texas-instruments-is-laying/\n",
      "\n"
     ]
    }
   ],
   "source": [
    "import praw\n",
    "\n",
    "reddit = praw.Reddit(\n",
    "    client_id=\"EKbE2y5TtQ2YTCVz39-kJg\",\n",
    "    client_secret=\"r6OdI-xsowqL4k2U5gNjJ4odaW5GHw\",\n",
    "    user_agent=\"IS310 by u/Sufficient-Explorer1\"\n",
    ")\n",
    "\n",
    "# Confirm connection (should print True)\n",
    "print(\"Read-only mode:\", reddit.read_only)\n",
    "\n",
    "# Test: print top 5 posts from r/technology\n",
    "for post in reddit.subreddit(\"technology\").hot(limit=5):\n",
    "    print(f\"{post.title} (Score: {post.score})\")\n",
    "    print(f\"URL: {post.url}\\n\")\n"
   ]
  },
  {
   "cell_type": "code",
   "execution_count": null,
   "metadata": {},
   "outputs": [],
   "source": []
  }
 ],
 "metadata": {
  "kernelspec": {
   "display_name": "Python 3",
   "language": "python",
   "name": "python3"
  },
  "language_info": {
   "codemirror_mode": {
    "name": "ipython",
    "version": 3
   },
   "file_extension": ".py",
   "mimetype": "text/x-python",
   "name": "python",
   "nbconvert_exporter": "python",
   "pygments_lexer": "ipython3",
   "version": "3.13.1"
  }
 },
 "nbformat": 4,
 "nbformat_minor": 2
}
