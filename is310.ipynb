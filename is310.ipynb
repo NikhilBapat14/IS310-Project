{
 "cells": [
  {
   "cell_type": "code",
   "execution_count": 1,
   "metadata": {},
   "outputs": [
    {
     "name": "stderr",
     "output_type": "stream",
     "text": [
      "c:\\Users\\Ben\\anaconda3\\envs\\is310\\lib\\site-packages\\tqdm\\auto.py:21: TqdmWarning: IProgress not found. Please update jupyter and ipywidgets. See https://ipywidgets.readthedocs.io/en/stable/user_install.html\n",
      "  from .autonotebook import tqdm as notebook_tqdm\n"
     ]
    }
   ],
   "source": [
    "import praw\n",
    "from datetime import datetime\n",
    "import pandas as pd\n",
    "import csv\n",
    "import spacy\n",
    "from transformers import pipeline\n",
    "import time\n",
    "import prawcore.exceptions\n",
    "\n"
   ]
  },
  {
   "cell_type": "code",
   "execution_count": 2,
   "metadata": {},
   "outputs": [
    {
     "name": "stdout",
     "output_type": "stream",
     "text": [
      "Read-only mode: True\n"
     ]
    },
    {
     "name": "stderr",
     "output_type": "stream",
     "text": [
      "Version 7.7.1 of praw is outdated. Version 7.8.1 was released Friday October 25, 2024.\n"
     ]
    },
    {
     "data": {
      "text/plain": [
       "' \\n# Test: print top 5 posts from r/technology\\nfor post in reddit.subreddit(\"politics\").hot(limit=5):\\n    print(f\"{post.title} (Score: {post.score})\")\\n    print(f\"URL: {post.url}\")\\n    print(f\"Post date: {post.created_utc}\")\\n    print(f\"Post date (UTC): {datetime.fromtimestamp(post.created_utc)}\\n\")\\n '"
      ]
     },
     "execution_count": 2,
     "metadata": {},
     "output_type": "execute_result"
    }
   ],
   "source": [
    "reddit = praw.Reddit(\n",
    "    client_id=\"EKbE2y5TtQ2YTCVz39-kJg\", \n",
    "    client_secret=\"r6OdI-xsowqL4k2U5gNjJ4odaW5GHw\",\n",
    "    user_agent=\"IS310 by u/Sufficient-Explorer1\"\n",
    ")\n",
    "\n",
    "# Confirm connection (should print True)\n",
    "print(\"Read-only mode:\", reddit.read_only)\n",
    "\"\"\" \n",
    "# Test: print top 5 posts from r/technology\n",
    "for post in reddit.subreddit(\"politics\").hot(limit=5):\n",
    "    print(f\"{post.title} (Score: {post.score})\")\n",
    "    print(f\"URL: {post.url}\")\n",
    "    print(f\"Post date: {post.created_utc}\")\n",
    "    print(f\"Post date (UTC): {datetime.fromtimestamp(post.created_utc)}\\n\")\n",
    " \"\"\""
   ]
  },
  {
   "cell_type": "code",
   "execution_count": 3,
   "metadata": {},
   "outputs": [],
   "source": [
    "\n",
    "def getReasonablyUniqueIdentifier(post):\n",
    "     title = post.title\n",
    "     \n",
    "     invalid_chars = ['<', '>', ':', '\"', '/', '\\\\', '|', '?', '*', ' ', '\\n', '\\r']\n",
    "     for char in invalid_chars:\n",
    "        title = title.replace(char, \"_\")        \n",
    "     title = title[:20]\n",
    "     date = datetime.fromtimestamp(post.created_utc)\n",
    "     date_str = date.strftime(\"%Y%m%d_%H%M%S\")\n",
    "     return f\"{title}---{date_str}\"\n",
    "\n",
    "def createCommentCSV(post, sleep_time=0):\n",
    "    try:\n",
    "        # Replace \"MoreComments\" objects to get all comments\n",
    "        post.comments.replace_more(limit=None)\n",
    "        comments = post.comments.list()\n",
    "        \n",
    "        # Generate a unique filename for the post\n",
    "        filename = getReasonablyUniqueIdentifier(post)\n",
    "\n",
    "        # Write comments to a CSV file\n",
    "        with open(f\"post_comments/{filename}.csv\", \"w\", encoding=\"utf-8\") as f:\n",
    "            writer = csv.writer(f)\n",
    "            writer.writerow([\"Comment\", \"Author\", \"Date\", \"Score\"])\n",
    "            \n",
    "            for comment in comments:\n",
    "                writer.writerow([\n",
    "                    comment.body.replace(\"\\n\", \" \"),  # Replace newlines in the comment body\n",
    "                    comment.author if comment.author else \"[deleted]\",  # Handle deleted authors\n",
    "                    datetime.fromtimestamp(comment.created_utc).isoformat(),  # Format the comment date\n",
    "                    comment.score  # Comment score\n",
    "                ])\n",
    "                # Add a delay to avoid hitting the rate limit\n",
    "                time.sleep(sleep_time)  # Adjust delay as needed (e.g., 0.5 seconds per comment)\n",
    "    except Exception as e:\n",
    "        if sleep_time >= 30:\n",
    "            raise e\n",
    "        print(f\"Exception encountered. Sleeping for {sleep_time * 10} seconds...\")\n",
    "        time.sleep(sleep_time * 10)  # Wait for the duration specified in the exception\n",
    "        createCommentCSV(post, sleep_time=sleep_time+0.5)  # Retry after sleeping"
   ]
  },
  {
   "cell_type": "code",
   "execution_count": 4,
   "metadata": {},
   "outputs": [],
   "source": [
    "def getPosts(subreddit, category, postlimit=100):\n",
    "    with open(f\"post_csvs/posts_{subreddit}_{category}-{datetime.now().date()}.csv\", \"w\", encoding=\"utf-8\") as f:\n",
    "        writer = csv.writer(f)\n",
    "        writer.writerow([\"Title\", \"URL\", \"Date\", \"Score\", \"Author\", \"num_comments\", \"identifier\"])\n",
    "        switcher = {\n",
    "            \"hot\": reddit.subreddit(subreddit).hot(limit=postlimit),\n",
    "            \"new\": reddit.subreddit(subreddit).new(limit=postlimit),\n",
    "            \"top\": reddit.subreddit(subreddit).top(limit=postlimit),\n",
    "            \"controversial\": reddit.subreddit(subreddit).controversial(limit=postlimit),\n",
    "            \"rising\": reddit.subreddit(subreddit).rising(limit=postlimit),\n",
    "        }\n",
    "        time.sleep(2)\n",
    "        for post in switcher.get(category):\n",
    "            time.sleep(1)\n",
    "            try: \n",
    "                createCommentCSV(post)\n",
    "                writer.writerow([\n",
    "                    post.title.replace(\"\\n\", \" \"),  \n",
    "                    post.url,\n",
    "                    datetime.fromtimestamp(post.created_utc).isoformat(),\n",
    "                    post.score,\n",
    "                    post.author if post.author else \"[deleted]\",\n",
    "                    post.num_comments,\n",
    "                    getReasonablyUniqueIdentifier(post)\n",
    "                ])\n",
    "            except Exception as e:\n",
    "                print(f\"Failed to get post comments for post {post.title}: {e}\")\n",
    "                continue\n",
    "            "
   ]
  },
  {
   "cell_type": "code",
   "execution_count": 5,
   "metadata": {},
   "outputs": [
    {
     "name": "stdout",
     "output_type": "stream",
     "text": [
      "Exception encountered. Sleeping for 0 seconds...\n",
      "Exception encountered. Sleeping for 5.0 seconds...\n",
      "Finished politics hot posts\n",
      "Finished Conservative hot posts\n",
      "Finished Democrat hot posts\n",
      "Finished PoliticalDiscussion hot posts\n",
      "Finished Ask_Politics hot posts\n",
      "Finished politics new posts\n",
      "Finished Conservative new posts\n",
      "Finished Democrat new posts\n",
      "Finished PoliticalDiscussion new posts\n",
      "Finished Ask_Politics new posts\n"
     ]
    }
   ],
   "source": [
    "getPosts(\"politics\", \"hot\", 100)\n",
    "print(\"Finished politics hot posts\")\n",
    "getPosts(\"Conservative\", \"hot\", 100)\n",
    "print(\"Finished Conservative hot posts\")\n",
    "getPosts(\"democrats\", \"hot\", 100)\n",
    "print(\"Finished Democrat hot posts\")\n",
    "getPosts(\"PoliticalDiscussion\", \"hot\", 100)\n",
    "print(\"Finished PoliticalDiscussion hot posts\")\n",
    "getPosts(\"Ask_Politics\", \"hot\", 100)\n",
    "print(\"Finished Ask_Politics hot posts\")\n",
    "\n",
    "getPosts(\"politics\", \"new\", 1000)\n",
    "print(\"Finished politics new posts\")\n",
    "getPosts(\"Conservative\", \"new\", 1000)\n",
    "print(\"Finished Conservative new posts\")\n",
    "getPosts(\"democrats\", \"new\", 1000)\n",
    "print(\"Finished Democrat new posts\")\n",
    "getPosts(\"PoliticalDiscussion\", \"new\", 1000)\n",
    "print(\"Finished PoliticalDiscussion new posts\")\n",
    "getPosts(\"Ask_Politics\", \"new\", 1000)\n",
    "print(\"Finished Ask_Politics new posts\")"
   ]
  }
 ],
 "metadata": {
  "kernelspec": {
   "display_name": "is310",
   "language": "python",
   "name": "python3"
  },
  "language_info": {
   "codemirror_mode": {
    "name": "ipython",
    "version": 3
   },
   "file_extension": ".py",
   "mimetype": "text/x-python",
   "name": "python",
   "nbconvert_exporter": "python",
   "pygments_lexer": "ipython3",
   "version": "3.10.13"
  }
 },
 "nbformat": 4,
 "nbformat_minor": 2
}
